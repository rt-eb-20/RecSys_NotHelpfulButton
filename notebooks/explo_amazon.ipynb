{
 "cells": [
  {
   "cell_type": "code",
   "execution_count": 4,
   "metadata": {
    "collapsed": true
   },
   "outputs": [],
   "source": [
    "# https://www.kaggle.com/jmourad100/amazon-product-reviews-data-5core-2014?select=Books_5.json\n",
    "\n",
    "import pandas as pd\n",
    "import re"
   ]
  },
  {
   "cell_type": "code",
   "execution_count": 10,
   "outputs": [],
   "source": [
    "df2 = pd.read_json('../data/Books_5.json/Books_5.json',\n",
    "                             orient=\"columns\",\n",
    "                             lines=True,\n",
    "                             nrows=100000)\n",
    "\n",
    "df2.reviewTime = pd.to_datetime(df2.reviewTime)\n",
    "df2['reviewYear'] = df2.reviewTime.dt.year\n",
    "not_helpful = pd.Series(df2.helpful.apply(lambda x: x[0]))\n",
    "helpful = pd.Series(df2.helpful.apply(lambda x: x[1]))\n",
    "df2['not_helpful_count'] = not_helpful.astype(int)\n",
    "df2['helpful_count'] = helpful.astype(int)"
   ],
   "metadata": {
    "collapsed": false,
    "pycharm": {
     "name": "#%%\n"
    }
   }
  },
  {
   "cell_type": "code",
   "execution_count": 11,
   "outputs": [
    {
     "data": {
      "text/plain": "              reviewerID        asin  \\\n0  A10000012B7CGYKOMPQ4L  000100039X   \n1         A2S166WSCFIFP5  000100039X   \n2         A1BM81XB4QHOA3  000100039X   \n3         A1MOSTXNIO5MPJ  000100039X   \n4         A2XQ5LZHTD4AFT  000100039X   \n\n                                      reviewerName helpful  \\\n0                                             Adam  [0, 0]   \n1  adead_poet@hotmail.com \"adead_poet@hotmail.com\"  [0, 2]   \n2                      Ahoro Blethends \"Seriously\"  [0, 0]   \n3                                        Alan Krug  [0, 0]   \n4                                         Alaturka  [7, 9]   \n\n                                          reviewText  overall  \\\n0  Spiritually and mentally inspiring! A book tha...        5   \n1  This is one my must have books. It is a master...        5   \n2  This book provides a reflection that you can a...        5   \n3  I first read THE PROPHET in college back in th...        5   \n4  A timeless classic.  It is a very demanding an...        5   \n\n                                             summary  unixReviewTime  \\\n0                                         Wonderful!      1355616000   \n1                                       close to god      1071100800   \n2                    Must Read for Life Afficianados      1390003200   \n3  Timeless for every good and bad time in your l...      1317081600   \n4                                      A Modern Rumi      1033948800   \n\n  reviewTime  reviewYear  not_helpful_count  helpful_count  \n0 2012-12-16        2012                  0              0  \n1 2003-12-11        2003                  0              2  \n2 2014-01-18        2014                  0              0  \n3 2011-09-27        2011                  0              0  \n4 2002-10-07        2002                  7              9  ",
      "text/html": "<div>\n<style scoped>\n    .dataframe tbody tr th:only-of-type {\n        vertical-align: middle;\n    }\n\n    .dataframe tbody tr th {\n        vertical-align: top;\n    }\n\n    .dataframe thead th {\n        text-align: right;\n    }\n</style>\n<table border=\"1\" class=\"dataframe\">\n  <thead>\n    <tr style=\"text-align: right;\">\n      <th></th>\n      <th>reviewerID</th>\n      <th>asin</th>\n      <th>reviewerName</th>\n      <th>helpful</th>\n      <th>reviewText</th>\n      <th>overall</th>\n      <th>summary</th>\n      <th>unixReviewTime</th>\n      <th>reviewTime</th>\n      <th>reviewYear</th>\n      <th>not_helpful_count</th>\n      <th>helpful_count</th>\n    </tr>\n  </thead>\n  <tbody>\n    <tr>\n      <th>0</th>\n      <td>A10000012B7CGYKOMPQ4L</td>\n      <td>000100039X</td>\n      <td>Adam</td>\n      <td>[0, 0]</td>\n      <td>Spiritually and mentally inspiring! A book tha...</td>\n      <td>5</td>\n      <td>Wonderful!</td>\n      <td>1355616000</td>\n      <td>2012-12-16</td>\n      <td>2012</td>\n      <td>0</td>\n      <td>0</td>\n    </tr>\n    <tr>\n      <th>1</th>\n      <td>A2S166WSCFIFP5</td>\n      <td>000100039X</td>\n      <td>adead_poet@hotmail.com \"adead_poet@hotmail.com\"</td>\n      <td>[0, 2]</td>\n      <td>This is one my must have books. It is a master...</td>\n      <td>5</td>\n      <td>close to god</td>\n      <td>1071100800</td>\n      <td>2003-12-11</td>\n      <td>2003</td>\n      <td>0</td>\n      <td>2</td>\n    </tr>\n    <tr>\n      <th>2</th>\n      <td>A1BM81XB4QHOA3</td>\n      <td>000100039X</td>\n      <td>Ahoro Blethends \"Seriously\"</td>\n      <td>[0, 0]</td>\n      <td>This book provides a reflection that you can a...</td>\n      <td>5</td>\n      <td>Must Read for Life Afficianados</td>\n      <td>1390003200</td>\n      <td>2014-01-18</td>\n      <td>2014</td>\n      <td>0</td>\n      <td>0</td>\n    </tr>\n    <tr>\n      <th>3</th>\n      <td>A1MOSTXNIO5MPJ</td>\n      <td>000100039X</td>\n      <td>Alan Krug</td>\n      <td>[0, 0]</td>\n      <td>I first read THE PROPHET in college back in th...</td>\n      <td>5</td>\n      <td>Timeless for every good and bad time in your l...</td>\n      <td>1317081600</td>\n      <td>2011-09-27</td>\n      <td>2011</td>\n      <td>0</td>\n      <td>0</td>\n    </tr>\n    <tr>\n      <th>4</th>\n      <td>A2XQ5LZHTD4AFT</td>\n      <td>000100039X</td>\n      <td>Alaturka</td>\n      <td>[7, 9]</td>\n      <td>A timeless classic.  It is a very demanding an...</td>\n      <td>5</td>\n      <td>A Modern Rumi</td>\n      <td>1033948800</td>\n      <td>2002-10-07</td>\n      <td>2002</td>\n      <td>7</td>\n      <td>9</td>\n    </tr>\n  </tbody>\n</table>\n</div>"
     },
     "execution_count": 11,
     "metadata": {},
     "output_type": "execute_result"
    }
   ],
   "source": [
    "df2.head()"
   ],
   "metadata": {
    "collapsed": false,
    "pycharm": {
     "name": "#%%\n"
    }
   }
  }
 ],
 "metadata": {
  "kernelspec": {
   "display_name": "Python 3",
   "language": "python",
   "name": "python3"
  },
  "language_info": {
   "codemirror_mode": {
    "name": "ipython",
    "version": 2
   },
   "file_extension": ".py",
   "mimetype": "text/x-python",
   "name": "python",
   "nbconvert_exporter": "python",
   "pygments_lexer": "ipython2",
   "version": "2.7.6"
  }
 },
 "nbformat": 4,
 "nbformat_minor": 0
}