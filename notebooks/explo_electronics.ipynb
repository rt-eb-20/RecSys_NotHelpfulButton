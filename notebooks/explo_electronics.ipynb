{
 "cells": [
  {
   "cell_type": "code",
   "execution_count": 1,
   "metadata": {
    "collapsed": true
   },
   "outputs": [
    {
     "ename": "SyntaxError",
     "evalue": "invalid syntax (<string>, line 1)",
     "output_type": "error",
     "traceback": [
      "Traceback \u001B[1;36m(most recent call last)\u001B[0m:\n",
      "  File \u001B[0;32m\"C:\\Users\\rene\\anaconda3\\envs\\NotHelpfulButton\\lib\\site-packages\\IPython\\core\\interactiveshell.py\"\u001B[0m, line \u001B[0;32m3437\u001B[0m, in \u001B[0;35mrun_code\u001B[0m\n    exec(code_obj, self.user_global_ns, self.user_ns)\n",
      "  File \u001B[0;32m\"<ipython-input-1-78e230c06d3d>\"\u001B[0m, line \u001B[0;32m17\u001B[0m, in \u001B[0;35m<module>\u001B[0m\n    df = getDF('data/amazon_reviews_us_Electronics_v1_00.tsv.gz')\n",
      "  File \u001B[0;32m\"<ipython-input-1-78e230c06d3d>\"\u001B[0m, line \u001B[0;32m12\u001B[0m, in \u001B[0;35mgetDF\u001B[0m\n    for d in parse(path):\n",
      "\u001B[1;36m  File \u001B[1;32m\"<ipython-input-1-78e230c06d3d>\"\u001B[1;36m, line \u001B[1;32m7\u001B[1;36m, in \u001B[1;35mparse\u001B[1;36m\u001B[0m\n\u001B[1;33m    yield eval(l)\u001B[0m\n",
      "\u001B[1;36m  File \u001B[1;32m\"<string>\"\u001B[1;36m, line \u001B[1;32m1\u001B[0m\n\u001B[1;33m    marketplace\tcustomer_id\treview_id\tproduct_id\tproduct_parent\tproduct_title\tproduct_category\tstar_rating\thelpful_votes\ttotal_votes\tvine\tverified_purchase\treview_headline\treview_body\treview_date\u001B[0m\n\u001B[1;37m               \t^\u001B[0m\n\u001B[1;31mSyntaxError\u001B[0m\u001B[1;31m:\u001B[0m invalid syntax\n"
     ]
    }
   ],
   "source": [
    "import pandas as pd\n",
    "import gzip\n",
    "\n",
    "def parse(path):\n",
    "  g = gzip.open(path, 'rb')\n",
    "  for l in g:\n",
    "    yield eval(l)\n",
    "\n",
    "def getDF(path):\n",
    "  i = 0\n",
    "  df = {}\n",
    "  for d in parse(path):\n",
    "    df[i] = d\n",
    "    i += 1\n",
    "  return pd.DataFrame.from_dict(df, orient='index')\n",
    "\n",
    "df = getDF('data/amazon_reviews_us_Electronics_v1_00.tsv.gz')"
   ]
  },
  {
   "cell_type": "code",
   "execution_count": 3,
   "outputs": [
    {
     "name": "stderr",
     "output_type": "stream",
     "text": [
      "b'Skipping line 9076: expected 15 fields, saw 22\\nSkipping line 19256: expected 15 fields, saw 22\\nSkipping line 24313: expected 15 fields, saw 22\\nSkipping line 47211: expected 15 fields, saw 22\\nSkipping line 54295: expected 15 fields, saw 22\\nSkipping line 56641: expected 15 fields, saw 22\\nSkipping line 63067: expected 15 fields, saw 22\\n'\n",
      "b'Skipping line 93796: expected 15 fields, saw 22\\n'\n",
      "b'Skipping line 132806: expected 15 fields, saw 22\\nSkipping line 164631: expected 15 fields, saw 22\\nSkipping line 167019: expected 15 fields, saw 22\\nSkipping line 167212: expected 15 fields, saw 22\\n'\n",
      "b'Skipping line 198103: expected 15 fields, saw 22\\nSkipping line 199191: expected 15 fields, saw 22\\nSkipping line 202841: expected 15 fields, saw 22\\nSkipping line 218228: expected 15 fields, saw 22\\nSkipping line 235900: expected 15 fields, saw 22\\n'\n",
      "b'Skipping line 277761: expected 15 fields, saw 22\\nSkipping line 304582: expected 15 fields, saw 22\\nSkipping line 312029: expected 15 fields, saw 22\\n'\n",
      "b'Skipping line 343692: expected 15 fields, saw 22\\nSkipping line 352291: expected 15 fields, saw 22\\nSkipping line 363414: expected 15 fields, saw 22\\nSkipping line 378087: expected 15 fields, saw 22\\nSkipping line 378720: expected 15 fields, saw 22\\nSkipping line 378760: expected 15 fields, saw 22\\nSkipping line 379336: expected 15 fields, saw 22\\n'\n",
      "b'Skipping line 402682: expected 15 fields, saw 22\\n'\n",
      "b'Skipping line 466560: expected 15 fields, saw 22\\nSkipping line 486823: expected 15 fields, saw 22\\nSkipping line 489036: expected 15 fields, saw 22\\nSkipping line 496148: expected 15 fields, saw 22\\nSkipping line 522330: expected 15 fields, saw 22\\n'\n",
      "b'Skipping line 552961: expected 15 fields, saw 22\\nSkipping line 577388: expected 15 fields, saw 22\\nSkipping line 582182: expected 15 fields, saw 22\\n'\n",
      "b'Skipping line 590653: expected 15 fields, saw 22\\nSkipping line 608846: expected 15 fields, saw 22\\nSkipping line 615442: expected 15 fields, saw 22\\nSkipping line 645607: expected 15 fields, saw 22\\nSkipping line 654323: expected 15 fields, saw 22\\n'\n",
      "b'Skipping line 714935: expected 15 fields, saw 22\\n'\n",
      "b'Skipping line 749608: expected 15 fields, saw 22\\nSkipping line 753868: expected 15 fields, saw 22\\nSkipping line 762504: expected 15 fields, saw 22\\nSkipping line 771706: expected 15 fields, saw 22\\nSkipping line 773376: expected 15 fields, saw 22\\n'\n",
      "b'Skipping line 792407: expected 15 fields, saw 22\\nSkipping line 793933: expected 15 fields, saw 22\\nSkipping line 813269: expected 15 fields, saw 22\\nSkipping line 835491: expected 15 fields, saw 22\\nSkipping line 841176: expected 15 fields, saw 22\\nSkipping line 844604: expected 15 fields, saw 22\\n'\n",
      "b'Skipping line 857952: expected 15 fields, saw 22\\nSkipping line 859568: expected 15 fields, saw 22\\nSkipping line 860789: expected 15 fields, saw 22\\nSkipping line 863093: expected 15 fields, saw 22\\nSkipping line 881608: expected 15 fields, saw 22\\nSkipping line 891157: expected 15 fields, saw 22\\nSkipping line 893799: expected 15 fields, saw 22\\nSkipping line 906438: expected 15 fields, saw 22\\nSkipping line 914856: expected 15 fields, saw 22\\n'\n",
      "b'Skipping line 940736: expected 15 fields, saw 22\\nSkipping line 965818: expected 15 fields, saw 22\\n'\n",
      "b'Skipping line 993840: expected 15 fields, saw 22\\nSkipping line 1019036: expected 15 fields, saw 22\\nSkipping line 1019205: expected 15 fields, saw 22\\n'\n",
      "b'Skipping line 1058122: expected 15 fields, saw 22\\n'\n",
      "b'Skipping line 1144887: expected 15 fields, saw 22\\nSkipping line 1147255: expected 15 fields, saw 22\\nSkipping line 1164497: expected 15 fields, saw 22\\nSkipping line 1166930: expected 15 fields, saw 22\\n'\n",
      "b'Skipping line 1218319: expected 15 fields, saw 22\\nSkipping line 1232868: expected 15 fields, saw 22\\n'\n",
      "b'Skipping line 1307335: expected 15 fields, saw 22\\n'\n",
      "b'Skipping line 1621422: expected 15 fields, saw 22\\n'\n",
      "b'Skipping line 1857720: expected 15 fields, saw 22\\n'\n",
      "b'Skipping line 1935753: expected 15 fields, saw 22\\n'\n",
      "b'Skipping line 1988449: expected 15 fields, saw 22\\n'\n"
     ]
    }
   ],
   "source": [
    "import pandas as pd\n",
    "\n",
    "df = pd.read_csv('data/amazon_reviews_us_Electronics_v1_00.tsv.gz', sep='\\t',\n",
    "            compression='gzip', error_bad_lines=False)"
   ],
   "metadata": {
    "collapsed": false,
    "pycharm": {
     "name": "#%%\n"
    }
   }
  },
  {
   "cell_type": "code",
   "execution_count": 5,
   "outputs": [
    {
     "name": "stdout",
     "output_type": "stream",
     "text": [
      "  marketplace  customer_id       review_id  product_id  product_parent  \\\n",
      "0          US     41409413  R2MTG1GCZLR2DK  B00428R89M       112201306   \n",
      "1          US     49668221  R2HBOEM8LE9928  B000068O48       734576678   \n",
      "2          US     12338275  R1P4RW1R9FDPEE  B000GGKOG8       614448099   \n",
      "3          US     38487968  R1EBPM82ENI67M  B000NU4OTA        72265257   \n",
      "4          US     23732619  R372S58V6D11AT  B00JOQIO6S       308169188   \n",
      "\n",
      "                                       product_title product_category  \\\n",
      "0  yoomall 5M Antenna WIFI RP-SMA Female to Male ...      Electronics   \n",
      "1         Hosa GPM-103 3.5mm TRS to 1/4\" TRS Adaptor      Electronics   \n",
      "2        Channel Master Titan 2 Antenna Preamplifier      Electronics   \n",
      "3  LIMTECH Wall charger + USB Hotsync & Charging ...      Electronics   \n",
      "4     Skullcandy Air Raid Portable Bluetooth Speaker      Electronics   \n",
      "\n",
      "   star_rating  helpful_votes  total_votes vine verified_purchase  \\\n",
      "0            5              0            0    N                 Y   \n",
      "1            5              0            0    N                 Y   \n",
      "2            5              1            1    N                 Y   \n",
      "3            1              0            0    N                 Y   \n",
      "4            5              1            1    N                 Y   \n",
      "\n",
      "                 review_headline  \\\n",
      "0                     Five Stars   \n",
      "1       It works as advertising.   \n",
      "2                     Five Stars   \n",
      "3                       One Star   \n",
      "4  Overall pleased with the item   \n",
      "\n",
      "                                         review_body review_date  \n",
      "0                                      As described.  2015-08-31  \n",
      "1                           It works as advertising.  2015-08-31  \n",
      "2                                        Works pissa  2015-08-31  \n",
      "3                               Did not work at all.  2015-08-31  \n",
      "4  Works well. Bass is somewhat lacking but is pr...  2015-08-31  \n"
     ]
    },
    {
     "data": {
      "text/plain": "0       2088872\n1        469914\n2        172963\n3         91600\n4         55871\n         ...   \n693           1\n692           1\n691           1\n690           1\n2042          1\nName: helpful_votes, Length: 895, dtype: int64"
     },
     "execution_count": 5,
     "metadata": {},
     "output_type": "execute_result"
    }
   ],
   "source": [
    "print(df.head())\n",
    "df.helpful_votes.value_counts()"
   ],
   "metadata": {
    "collapsed": false,
    "pycharm": {
     "name": "#%%\n"
    }
   }
  }
 ],
 "metadata": {
  "kernelspec": {
   "display_name": "Python 3",
   "language": "python",
   "name": "python3"
  },
  "language_info": {
   "codemirror_mode": {
    "name": "ipython",
    "version": 2
   },
   "file_extension": ".py",
   "mimetype": "text/x-python",
   "name": "python",
   "nbconvert_exporter": "python",
   "pygments_lexer": "ipython2",
   "version": "2.7.6"
  }
 },
 "nbformat": 4,
 "nbformat_minor": 0
}